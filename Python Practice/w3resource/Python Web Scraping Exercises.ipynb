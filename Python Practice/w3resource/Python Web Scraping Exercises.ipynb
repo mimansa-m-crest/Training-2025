{
 "cells": [
  {
   "cell_type": "markdown",
   "id": "27e59428-9b3a-45b5-be60-735807086597",
   "metadata": {},
   "source": [
    "# Get the number of datasets currently listed on a site"
   ]
  },
  {
   "cell_type": "code",
   "execution_count": 10,
   "id": "4daca00e-2492-4267-bceb-26529062d708",
   "metadata": {},
   "outputs": [
    {
     "name": "stdout",
     "output_type": "stream",
     "text": [
      "Total datasets in catalog: 319954\n"
     ]
    }
   ],
   "source": [
    "import requests\n",
    "\n",
    "api_url = 'https://catalog.data.gov/api/3/action/package_search'\n",
    "response = requests.get(api_url, params={'rows': 0})\n",
    "data = response.json()\n",
    "\n",
    "if data['success']:\n",
    "    print(\"Total datasets in catalog:\", data['result']['count'])\n",
    "else:\n",
    "    print(\"API request failed:\", data.get('error'))\n"
   ]
  },
  {
   "cell_type": "markdown",
   "id": "7431b9e1-0159-4a2b-a395-2b9430cbac10",
   "metadata": {},
   "source": []
  },
  {
   "cell_type": "markdown",
   "id": "76a37547-9178-44e0-b98e-3160540bf741",
   "metadata": {},
   "source": [
    "# Get the number of Pinterest accounts maintained by US state department embassies and missions"
   ]
  },
  {
   "cell_type": "code",
   "execution_count": 16,
   "id": "ddbd2836-0c57-429f-8cf3-efc727ad4496",
   "metadata": {},
   "outputs": [
    {
     "name": "stdout",
     "output_type": "stream",
     "text": [
      "https://fr.usembassy.gov/ has NO Pinterest links.\n",
      "https://in.usembassy.gov/ has NO Pinterest links.\n",
      "https://br.usembassy.gov/ has NO Pinterest links.\n",
      "https://eg.usembassy.gov/ has NO Pinterest links.\n",
      "https://ng.usembassy.gov/ has NO Pinterest links.\n",
      "https://au.usembassy.gov/ has NO Pinterest links.\n"
     ]
    }
   ],
   "source": [
    "import requests\n",
    "from lxml import html\n",
    "\n",
    "urls = [\n",
    "    'https://fr.usembassy.gov/',\n",
    "    'https://in.usembassy.gov/',\n",
    "    'https://br.usembassy.gov/',\n",
    "    'https://eg.usembassy.gov/',\n",
    "    'https://ng.usembassy.gov/',\n",
    "    'https://au.usembassy.gov/',\n",
    "]\n",
    "\n",
    "for url in urls:\n",
    "    try:\n",
    "        res = requests.get(url, timeout=10)\n",
    "        doc = html.fromstring(res.text)\n",
    "\n",
    "        pinterest_links = [\n",
    "            a.attrib['href']\n",
    "            for a in doc.cssselect('a')\n",
    "            if a.attrib.get('href') and 'pinterest.com' in a.attrib['href']\n",
    "        ]\n",
    "\n",
    "        if pinterest_links:\n",
    "            print(f\"{url} has {len(pinterest_links)} Pinterest link(s):\")\n",
    "            for link in pinterest_links:\n",
    "                print(f\"  ↳ {link}\")\n",
    "        else:\n",
    "            print(f\"{url} has NO Pinterest links.\")\n",
    "            \n",
    "    except Exception as e:\n",
    "        print(f\"Failed to process {url}: {e}\")\n"
   ]
  },
  {
   "cell_type": "markdown",
   "id": "4743e404-52bc-4863-bbb3-ebe4e4dffd37",
   "metadata": {},
   "source": []
  }
 ],
 "metadata": {
  "kernelspec": {
   "display_name": "Python 3 (ipykernel)",
   "language": "python",
   "name": "python3"
  },
  "language_info": {
   "codemirror_mode": {
    "name": "ipython",
    "version": 3
   },
   "file_extension": ".py",
   "mimetype": "text/x-python",
   "name": "python",
   "nbconvert_exporter": "python",
   "pygments_lexer": "ipython3",
   "version": "3.13.5"
  }
 },
 "nbformat": 4,
 "nbformat_minor": 5
}

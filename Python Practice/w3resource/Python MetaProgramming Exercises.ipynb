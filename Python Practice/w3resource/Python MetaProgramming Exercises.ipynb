{
 "cells": [
  {
   "cell_type": "markdown",
   "id": "b6100886-753e-4759-ba7f-be55d462f49c",
   "metadata": {},
   "source": [
    "# Convert attribute names to uppercase"
   ]
  },
  {
   "cell_type": "code",
   "execution_count": 2,
   "id": "1d2f007a-557b-474f-a772-bb9b9ed3a2c9",
   "metadata": {},
   "outputs": [
    {
     "name": "stdout",
     "output_type": "stream",
     "text": [
      "False\n",
      "True\n",
      "bar\n"
     ]
    }
   ],
   "source": [
    "\n",
    "class UpperAttrMeta(type):\n",
    "    def __new__(cls, name, bases, dct):\n",
    "        \n",
    "        uppercase_attr = {}\n",
    "        for name, value in dct.items():\n",
    "            if not name.startswith('__'):\n",
    "                \n",
    "                uppercase_attr[name.upper()] = value\n",
    "            else:\n",
    "            \n",
    "                uppercase_attr[name] = value\n",
    "\n",
    "        return super().__new__(cls, name, bases, uppercase_attr)\n",
    "\n",
    "\n",
    "class MyClass(metaclass=UpperAttrMeta):\n",
    "    foo = 'bar'\n",
    "    baz = 'qux'\n",
    "    \n",
    "print(hasattr(MyClass, 'foo'))  \n",
    "print(hasattr(MyClass, 'FOO'))\n",
    "print(MyClass.FOO)  \n"
   ]
  },
  {
   "cell_type": "markdown",
   "id": "45d1c414-afb3-4068-adc7-10bc8062ea52",
   "metadata": {},
   "source": []
  },
  {
   "cell_type": "markdown",
   "id": "6f1dd987-11b7-4267-b11c-0c335c9c2dc9",
   "metadata": {},
   "source": [
    "# Transform Templates"
   ]
  },
  {
   "cell_type": "code",
   "execution_count": 18,
   "id": "efdb608f-6095-4175-8410-11f6f813fb32",
   "metadata": {},
   "outputs": [
    {
     "name": "stdout",
     "output_type": "stream",
     "text": [
      "\n",
      "class Person:\n",
      "    def __init__(self, name, age):\n",
      "        self.name = name\n",
      "        self.age = age\n",
      "\n",
      "Mim\n",
      "25\n"
     ]
    }
   ],
   "source": [
    "import textwrap\n",
    "\n",
    "def generate_code(template, values):\n",
    "    return template.format(**values)\n",
    "\n",
    "template = \"\"\"\n",
    "class {class_name}:\n",
    "    def __init__(self, {args}):\n",
    "{textwrapped_body}\n",
    "\"\"\"\n",
    "\n",
    "raw_body = \"self.name = name\\nself.age = age\"\n",
    "indented_body = textwrap.indent(raw_body, ' ' * 8)\n",
    "\n",
    "values = {\n",
    "    'class_name': 'Person', \n",
    "    'args': 'name, age',     \n",
    "    'textwrapped_body': indented_body \n",
    "}\n",
    "\n",
    "generated_code = generate_code(template, values)\n",
    "\n",
    "print(generated_code)  \n",
    "\n",
    "exec(generated_code)\n",
    "\n",
    "person = Person('Mim', 25)\n",
    "print(person.name)\n",
    "print(person.age)\n",
    "\n"
   ]
  },
  {
   "cell_type": "markdown",
   "id": "d9be9a56-a712-46f6-9c95-6d1141b02959",
   "metadata": {},
   "source": []
  },
  {
   "cell_type": "code",
   "execution_count": null,
   "id": "29b462a4-42a3-4aa4-9ff3-0b61d85b8eb1",
   "metadata": {},
   "outputs": [],
   "source": []
  }
 ],
 "metadata": {
  "kernelspec": {
   "display_name": "Python 3 (ipykernel)",
   "language": "python",
   "name": "python3"
  },
  "language_info": {
   "codemirror_mode": {
    "name": "ipython",
    "version": 3
   },
   "file_extension": ".py",
   "mimetype": "text/x-python",
   "name": "python",
   "nbconvert_exporter": "python",
   "pygments_lexer": "ipython3",
   "version": "3.13.5"
  }
 },
 "nbformat": 4,
 "nbformat_minor": 5
}

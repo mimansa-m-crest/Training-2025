{
 "cells": [
  {
   "cell_type": "code",
   "execution_count": 2,
   "id": "49327f1a-b9b8-4a9d-9a37-291a2925f406",
   "metadata": {},
   "outputs": [
    {
     "name": "stdout",
     "output_type": "stream",
     "text": [
      "Requirement already satisfied: geopy in c:\\users\\mimanshamehta\\anaconda3\\lib\\site-packages (2.4.1)\n",
      "Requirement already satisfied: geographiclib<3,>=1.52 in c:\\users\\mimanshamehta\\anaconda3\\lib\\site-packages (from geopy) (2.0)\n",
      "Note: you may need to restart the kernel to use updated packages.\n"
     ]
    }
   ],
   "source": [
    "pip install geopy"
   ]
  },
  {
   "cell_type": "code",
   "execution_count": 3,
   "id": "4c20cc61-39a7-43d0-8813-ba3b6599ffae",
   "metadata": {},
   "outputs": [
    {
     "name": "stdout",
     "output_type": "stream",
     "text": [
      "State Name: Uttar Pradesh\n",
      "State Name/Country Name: \n",
      "Uttar Pradesh, India\n",
      "\n",
      "State Name:  Illinois\n",
      "State Name/Country Name: \n",
      "Illinois, United States\n",
      "\n",
      "State Name: Boston\n",
      "State Name/Country Name: \n",
      "Boston, Suffolk County, Massachusetts, United States\n",
      "\n",
      "State Name: Gujarat\n",
      "State Name/Country Name: \n",
      "Gujarat, India\n"
     ]
    }
   ],
   "source": [
    "from geopy.geocoders import Nominatim\n",
    "\n",
    "geolocator = Nominatim(user_agent= \"mimansha-geopy-script-2025@example.com\")\n",
    "state1 = \"Uttar Pradesh\"\n",
    "print(\"State Name:\",state1)\n",
    "location = geolocator.geocode(state1)\n",
    "print(\"State Name/Country Name: \")\n",
    "print(location.address)\n",
    "\n",
    "state2 = \" Illinois\"\n",
    "print(\"\\nState Name:\",state2)\n",
    "location = geolocator.geocode(state2)\n",
    "print(\"State Name/Country Name: \")\n",
    "print(location.address)\n",
    "\n",
    "state3 = \"Boston\"\n",
    "print(\"\\nState Name:\",state3)\n",
    "location = geolocator.geocode(state3)\n",
    "print(\"State Name/Country Name: \")\n",
    "print(location.address) \n",
    "\n",
    "state4 = \"Gujarat\"\n",
    "print(\"\\nState Name:\",state4)\n",
    "location = geolocator.geocode(state4)\n",
    "print(\"State Name/Country Name: \")\n",
    "print(location.address)\n"
   ]
  },
  {
   "cell_type": "markdown",
   "id": "53ed46f0-5732-42b0-9576-67a98cc16fe9",
   "metadata": {},
   "source": []
  },
  {
   "cell_type": "code",
   "execution_count": 1,
   "id": "9b3cae60-4bfe-4b70-aa51-89cfc5483f0a",
   "metadata": {},
   "outputs": [],
   "source": [
    "# "
   ]
  },
  {
   "cell_type": "code",
   "execution_count": 4,
   "id": "9e0b19a7-05bd-438c-8116-d99c17815ef3",
   "metadata": {},
   "outputs": [
    {
     "name": "stdout",
     "output_type": "stream",
     "text": [
      "\n",
      "Zipcode: 99501\n",
      "Details of the said pincode:\n",
      "99501, Asolokobal, Jayawijaya, Papua Pegunungan, Western New Guinea, Indonesia\n",
      "\n",
      "Zipcode: 395007\n",
      "Details of the said pincode:\n",
      "395007, Majura Taluka, Surat, Gujarat, India\n",
      "\n",
      "Zipcode: 395009\n",
      "Details of the said pincode:\n",
      "395009, Surat, Gujarat, India\n",
      "\n",
      "Zipcode: 713101\n",
      "Details of the said pincode:\n",
      "713101, Radhanagar, Bardhaman, Burdwan - I, Purba Bardhaman, West Bengal, India\n"
     ]
    }
   ],
   "source": [
    "from geopy.geocoders import Nominatim\n",
    "\n",
    "geolocator = Nominatim(user_agent= \"mimansha-geopy-script-2025@example.com\")\n",
    "\n",
    "zipcode1 = \"99501\"\n",
    "print(\"\\nZipcode:\",zipcode1)\n",
    "location = geolocator.geocode(zipcode1)\n",
    "\n",
    "print(\"Details of the said pincode:\")\n",
    "print(location.address) \n",
    "\n",
    "zipcode2 = \"395007\"\n",
    "print(\"\\nZipcode:\",zipcode2)\n",
    "location = geolocator.geocode(zipcode2)\n",
    "\n",
    "print(\"Details of the said pincode:\")\n",
    "print(location.address) \n",
    "\n",
    "zipcode3 = \"395009\"\n",
    "print(\"\\nZipcode:\",zipcode3)\n",
    "location = geolocator.geocode(zipcode3)\n",
    "\n",
    "print(\"Details of the said pincode:\")\n",
    "print(location.address) \n",
    "\n",
    "zipcode4 = \"713101\"\n",
    "print(\"\\nZipcode:\",zipcode4)\n",
    "location = geolocator.geocode(zipcode4)\n",
    "\n",
    "print(\"Details of the said pincode:\")\n",
    "print(location.address)\n"
   ]
  },
  {
   "cell_type": "markdown",
   "id": "677f059e-51be-4912-9864-9cf69da5f215",
   "metadata": {},
   "source": []
  }
 ],
 "metadata": {
  "kernelspec": {
   "display_name": "Python 3 (ipykernel)",
   "language": "python",
   "name": "python3"
  },
  "language_info": {
   "codemirror_mode": {
    "name": "ipython",
    "version": 3
   },
   "file_extension": ".py",
   "mimetype": "text/x-python",
   "name": "python",
   "nbconvert_exporter": "python",
   "pygments_lexer": "ipython3",
   "version": "3.13.5"
  }
 },
 "nbformat": 4,
 "nbformat_minor": 5
}

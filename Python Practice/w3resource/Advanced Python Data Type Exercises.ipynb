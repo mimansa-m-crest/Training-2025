{
 "cells": [
  {
   "cell_type": "markdown",
   "id": "e530b75b-947b-43fb-95fc-ba9fab7df8f3",
   "metadata": {},
   "source": [
    "# Password Validator"
   ]
  },
  {
   "cell_type": "code",
   "execution_count": 2,
   "id": "6ee690d0-60b4-44fd-aa7d-eb983e18c0fc",
   "metadata": {},
   "outputs": [
    {
     "name": "stdin",
     "output_type": "stream",
     "text": [
      "Input your password:  Mimansa15@\n"
     ]
    },
    {
     "name": "stdout",
     "output_type": "stream",
     "text": [
      "Password is valid.\n"
     ]
    }
   ],
   "source": [
    "def Is_password_valid(password):\n",
    "\n",
    "    if len(password) < 8 or len(password) > 16:\n",
    "        return False\n",
    "    \n",
    "\n",
    "    password_has_digit = any(char.isdigit() for char in password)\n",
    "    password_special_characters = \"!@#$%^&*()_+[]{}|;:,.<>?/\"\n",
    "    has_special_character = any(char in password_special_characters for char in password)\n",
    "    password_has_uppercase = any(char.isupper() for char in password)\n",
    "    password_has_lowercase = any(char.islower() for char in password)\n",
    "    \n",
    "\n",
    "    return password_has_digit and has_special_character and password_has_uppercase and password_has_lowercase\n",
    "\n",
    "def main():\n",
    "    try:\n",
    "        password = input(\"Input your password: \")\n",
    "        \n",
    "        if Is_password_valid(password):\n",
    "            print(\"Password is valid.\")\n",
    "        else:\n",
    "            print(\"Password is invalid.\")\n",
    "    except Exception as e:\n",
    "        print(\"An error occurred:\", e)\n",
    "\n",
    "if __name__ == \"__main__\":\n",
    "    main()\n"
   ]
  },
  {
   "cell_type": "markdown",
   "id": "4c36692d-877b-4710-9dcb-b25bc89d22c2",
   "metadata": {},
   "source": []
  },
  {
   "cell_type": "markdown",
   "id": "bd4a8916-1577-41cc-b5f4-9be5cf3ac7a7",
   "metadata": {},
   "source": [
    "# Middle Character or None"
   ]
  },
  {
   "cell_type": "code",
   "execution_count": 5,
   "id": "1a31ee67-879c-4e18-ae1b-8d3fe4b49069",
   "metadata": {},
   "outputs": [
    {
     "name": "stdin",
     "output_type": "stream",
     "text": [
      "Input a string:  knakdaax\n"
     ]
    },
    {
     "name": "stdout",
     "output_type": "stream",
     "text": [
      "String length is even, no middle character.\n"
     ]
    }
   ],
   "source": [
    "def get_middle_character(input_string):\n",
    "    length = len(input_string)\n",
    "    \n",
    "    if length % 2 == 0:\n",
    "        return \"None\"\n",
    "    else:\n",
    "        middle_index = length // 2\n",
    "        return input_string[middle_index]\n",
    "\n",
    "def main():\n",
    "    try:\n",
    "        input_string = input(\"Input a string: \")\n",
    "        result = get_middle_character(input_string)\n",
    "        \n",
    "        if result == \"None\":\n",
    "            print(\"String length is even, no middle character.\")\n",
    "        else:\n",
    "            print(\"Middle character:\", result)\n",
    "            \n",
    "    except Exception as e:\n",
    "        print(\"An error occurred:\", e)\n",
    "\n",
    "if __name__ == \"__main__\":\n",
    "    main()\n"
   ]
  },
  {
   "cell_type": "markdown",
   "id": "3e89e45b-dc9f-46f4-b226-94546ff6bd6a",
   "metadata": {},
   "source": []
  },
  {
   "cell_type": "markdown",
   "id": "e83ed1ab-ce00-4ee7-a7e0-2c5072b015ff",
   "metadata": {},
   "source": [
    "# String to Bytes Conversion"
   ]
  },
  {
   "cell_type": "code",
   "execution_count": 7,
   "id": "16748237-3790-4ff3-b442-361d8429d2d6",
   "metadata": {},
   "outputs": [
    {
     "name": "stdout",
     "output_type": "stream",
     "text": [
      "Encoding: UTF-8\n",
      "Original String: Python Exercises!\n",
      "Encoded Bytes: b'Python Exercises!'\n",
      "Decoded String: Python Exercises!\n",
      "========================================\n",
      "Encoding: UTF-16\n",
      "Original String: Python Exercises!\n",
      "Encoded Bytes: b'\\xff\\xfeP\\x00y\\x00t\\x00h\\x00o\\x00n\\x00 \\x00E\\x00x\\x00e\\x00r\\x00c\\x00i\\x00s\\x00e\\x00s\\x00!\\x00'\n",
      "Decoded String: Python Exercises!\n",
      "========================================\n",
      "Encoding: ASCII\n",
      "Original String: Python Exercises!\n",
      "Encoded Bytes: b'Python Exercises!'\n",
      "Decoded String: Python Exercises!\n",
      "========================================\n"
     ]
    }
   ],
   "source": [
    "def convert_to_bytes(input_string, encoding):\n",
    "    try:\n",
    "        encoded_bytes = input_string.encode(encoding)\n",
    "        return encoded_bytes\n",
    "        \n",
    "    except Exception as e:\n",
    "        print(\"Error:\", e)\n",
    "        return None\n",
    "\n",
    "def main():\n",
    "    try:\n",
    "        input_string = \"Python Exercises!\"\n",
    "        \n",
    "        encodings = [\"utf-8\", \"utf-16\", \"ascii\"]\n",
    "        \n",
    "        for encoding in encodings:\n",
    "            encoded_bytes = convert_to_bytes(input_string, encoding)\n",
    "            \n",
    "            if encoded_bytes is not None:\n",
    "                print(f\"Encoding: {encoding.upper()}\")\n",
    "                print(\"Original String:\", input_string)\n",
    "                print(\"Encoded Bytes:\", encoded_bytes)\n",
    "                print(\"Decoded String:\", encoded_bytes.decode(encoding))\n",
    "                print(\"=\" * 40)\n",
    "                \n",
    "    except Exception as e:\n",
    "        print(\"An error occurred:\", e)\n",
    "\n",
    "if __name__ == \"__main__\":\n",
    "    main()\n"
   ]
  },
  {
   "cell_type": "markdown",
   "id": "7a8cacec-acc5-4a34-ab5e-7d5ae22f6bac",
   "metadata": {},
   "source": []
  },
  {
   "cell_type": "markdown",
   "id": "fcaeac93-6577-42d7-9681-50d70b3846a7",
   "metadata": {},
   "source": [
    "#  Memory View on Bytes Object"
   ]
  },
  {
   "cell_type": "code",
   "execution_count": 8,
   "id": "4c7ad162-ba4e-410a-804e-e9d36245b7c6",
   "metadata": {},
   "outputs": [
    {
     "name": "stdout",
     "output_type": "stream",
     "text": [
      "Memory View Length: 17\n",
      "First 8 Bytes: <memory at 0x0000011846FD4640>\n"
     ]
    }
   ],
   "source": [
    "def main():\n",
    "    try:\n",
    "        data = b\"Python Exercises!\"\n",
    "        \n",
    "        mem_data  = memoryview(data)        \n",
    "        print(\"Memory View Length:\", len(mem_data))\n",
    "        print(\"First 8 Bytes:\", mem_data[:8])\n",
    "        \n",
    "    except Exception as e:\n",
    "        print(\"An error occurred:\", e)\n",
    "\n",
    "if __name__ == \"__main__\":\n",
    "    main()\n"
   ]
  },
  {
   "cell_type": "markdown",
   "id": "db9c8803-77cb-4b83-83e8-910d2c6222aa",
   "metadata": {},
   "source": []
  },
  {
   "cell_type": "markdown",
   "id": "2ddede69-ebd3-464a-aced-3403815934e4",
   "metadata": {},
   "source": [
    "# Frozenset Operations"
   ]
  },
  {
   "cell_type": "code",
   "execution_count": 10,
   "id": "4537ec84-4f9a-41c7-b626-603b592154f9",
   "metadata": {},
   "outputs": [
    {
     "name": "stdout",
     "output_type": "stream",
     "text": [
      "Original frozensets:\n",
      "frozenset({1, 2, 3, 4, 5})\n",
      "frozenset({0, 1, 3, 7, 8, 10})\n",
      "Union of two said frozensets: frozenset({0, 1, 2, 3, 4, 5, 7, 8, 10})\n",
      "Intersection of two said frozensets: frozenset({1, 3})\n",
      "Difference of (frozenset_x - frozenset_y) frozenset({2, 4, 5})\n",
      "Difference of (frozenset_y - frozenset_x) frozenset({0, 8, 10, 7})\n"
     ]
    }
   ],
   "source": [
    "def main():\n",
    "    \n",
    "    frozenset_x = frozenset([1, 2, 3, 4, 5])\n",
    "    frozenset_y = frozenset([0, 1, 3, 7, 8, 10])    \n",
    "    print(\"Original frozensets:\")\n",
    "    print(frozenset_x)\n",
    "    print(frozenset_y)\n",
    "    \n",
    "    union_result = frozenset_x.union(frozenset_y)\n",
    "    print(\"Union of two said frozensets:\", union_result)\n",
    "    \n",
    "    intersection_result = frozenset_x.intersection(frozenset_y)\n",
    "    print(\"Intersection of two said frozensets:\", intersection_result)\n",
    "    \n",
    "    difference_result1 = frozenset_x.difference(frozenset_y)\n",
    "    \n",
    "    difference_result2 = frozenset_y.difference(frozenset_x)\n",
    "    print(\"Difference of (frozenset_x - frozenset_y)\", difference_result1)\n",
    "    print(\"Difference of (frozenset_y - frozenset_x)\", difference_result2)\n",
    "\n",
    "if __name__ == \"__main__\":\n",
    "    main()\n"
   ]
  },
  {
   "cell_type": "markdown",
   "id": "dfdba214-4586-4875-82e3-4a7dcb5a9a9e",
   "metadata": {},
   "source": []
  },
  {
   "cell_type": "markdown",
   "id": "73e72c68-39cf-4d10-a5df-b9812fae0d81",
   "metadata": {},
   "source": [
    "# Food Dictionary with NamedTuple"
   ]
  },
  {
   "cell_type": "code",
   "execution_count": 11,
   "id": "e4c9526e-47b7-40c4-9408-ddd1ca454730",
   "metadata": {},
   "outputs": [
    {
     "name": "stdout",
     "output_type": "stream",
     "text": [
      "Food: Pizza, Price: $11.90\n",
      "Food: Burger, Price: $7.45\n",
      "Food: Salad, Price: $5.45\n"
     ]
    }
   ],
   "source": [
    "from collections import namedtuple\n",
    "\n",
    "Food = namedtuple(\"Food\", [\"name\", \"price\"])\n",
    "\n",
    "food1 = Food(\"Pizza\", 11.90)\n",
    "food2 = Food(\"Burger\", 7.45)\n",
    "food3 = Food(\"Salad\", 5.45)\n",
    "\n",
    "food_dict = {\n",
    "    food1.name: food1,\n",
    "    food2.name: food2,\n",
    "    food3.name: food3\n",
    "}\n",
    "\n",
    "for food_name, food_info in food_dict.items():\n",
    "    print(f\"Food: {food_name}, Price: ${food_info.price:.2f}\")\n"
   ]
  },
  {
   "cell_type": "markdown",
   "id": "6807171d-e89a-4437-af46-7eff69938b1b",
   "metadata": {},
   "source": []
  },
  {
   "cell_type": "markdown",
   "id": "a69a9e5e-24d4-41d1-80e8-6021696d5f3c",
   "metadata": {},
   "source": [
    "# OrderedDict Creation"
   ]
  },
  {
   "cell_type": "code",
   "execution_count": 12,
   "id": "9719ce43-3bf0-49dd-a221-ffdf6cedc27d",
   "metadata": {},
   "outputs": [
    {
     "name": "stdout",
     "output_type": "stream",
     "text": [
      "Item: Laptop, Quantity: 15\n",
      "Item: Desktop, Quantity: 40\n",
      "Item: Mobile, Quantity: 50\n"
     ]
    }
   ],
   "source": [
    "from collections import OrderedDict\n",
    "\n",
    "ordered_dict = OrderedDict()\n",
    "\n",
    "\n",
    "ordered_dict['Laptop'] = 15\n",
    "ordered_dict['Desktop'] = 40\n",
    "ordered_dict['Mobile'] = 50\n",
    "\n",
    "\n",
    "for item, quantity in ordered_dict.items():\n",
    "    print(f\"Item: {item}, Quantity: {quantity}\")\n"
   ]
  },
  {
   "cell_type": "markdown",
   "id": "8054e4d6-1c74-4622-8550-366af478e74f",
   "metadata": {},
   "source": []
  },
  {
   "cell_type": "markdown",
   "id": "c6baef22-e11d-4fa0-a034-43e42237c2a2",
   "metadata": {},
   "source": [
    "# Counter of Letters"
   ]
  },
  {
   "cell_type": "code",
   "execution_count": 13,
   "id": "79f9b267-7d64-45b0-9f3c-920706deabd6",
   "metadata": {},
   "outputs": [
    {
     "name": "stdout",
     "output_type": "stream",
     "text": [
      "Letter Counter:\n",
      "P: 1\n",
      "y: 1\n",
      "t: 1\n",
      "h: 1\n",
      "o: 1\n",
      "n: 1\n",
      "E: 1\n",
      "x: 1\n",
      "e: 2\n",
      "r: 1\n",
      "c: 1\n",
      "i: 1\n",
      "s: 1\n"
     ]
    }
   ],
   "source": [
    "from collections import Counter\n",
    "\n",
    "text = \"Python Exercise!\"\n",
    "letter_counter = Counter(text)\n",
    "\n",
    "print(\"Letter Counter:\")\n",
    "for letter, count in letter_counter.items():\n",
    "    if letter.isalpha():\n",
    "        print(f\"{letter}: {count}\")\n"
   ]
  },
  {
   "cell_type": "markdown",
   "id": "38cc26e4-67b3-4ecc-824e-8cafabc84456",
   "metadata": {},
   "source": []
  },
  {
   "cell_type": "markdown",
   "id": "118daf13-0b26-4102-a196-18b6d710b2e3",
   "metadata": {},
   "source": [
    "# Ellipsis in Multidimensional Array"
   ]
  },
  {
   "cell_type": "code",
   "execution_count": 15,
   "id": "9a641fe0-2189-4851-a640-7bafb05dc995",
   "metadata": {},
   "outputs": [
    {
     "name": "stdout",
     "output_type": "stream",
     "text": [
      "Containing numbers from 1 to 10, but leaves a gap at even positions:\n",
      "[1, Ellipsis, 3, Ellipsis, 5, Ellipsis, 7, Ellipsis, 9, Ellipsis]\n",
      "\n",
      "Containing numbers from 10 to 20, but leaves a gap at odd positions:\n",
      "[10, Ellipsis, 12, Ellipsis, 14, Ellipsis, 16, Ellipsis, 18, Ellipsis, 20]\n"
     ]
    }
   ],
   "source": [
    "print(\"Containing numbers from 1 to 10, but leaves a gap at even positions:\")\n",
    "nums = [i if i % 2 != 0 else ... for i in range(1, 11)]\n",
    "print(nums)\n",
    "\n",
    "print(\"\\nContaining numbers from 10 to 20, but leaves a gap at odd positions:\")\n",
    "nums = [i if i % 2 == 0 else ... for i in range(10, 21)]\n",
    "print(nums)\n"
   ]
  },
  {
   "cell_type": "markdown",
   "id": "6ee04828-d3df-40de-a0b0-d977e7855a07",
   "metadata": {},
   "source": []
  },
  {
   "cell_type": "code",
   "execution_count": null,
   "id": "ed18dfef-e051-4bb5-b1c0-2cc8f80f2c6d",
   "metadata": {},
   "outputs": [],
   "source": []
  }
 ],
 "metadata": {
  "kernelspec": {
   "display_name": "Python 3 (ipykernel)",
   "language": "python",
   "name": "python3"
  },
  "language_info": {
   "codemirror_mode": {
    "name": "ipython",
    "version": 3
   },
   "file_extension": ".py",
   "mimetype": "text/x-python",
   "name": "python",
   "nbconvert_exporter": "python",
   "pygments_lexer": "ipython3",
   "version": "3.13.5"
  }
 },
 "nbformat": 4,
 "nbformat_minor": 5
}
